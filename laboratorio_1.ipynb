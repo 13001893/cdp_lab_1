{
 "cells": [
  {
   "cell_type": "markdown",
   "id": "b6d03f38-0699-4220-a26f-1240c2ccfb0b",
   "metadata": {},
   "source": [
    "# Laboratorio 1\n",
    "## Ciencias de Datos en Python\n",
    "\n",
    "*20240215*\n",
    "\n",
    "**Diego Morales**\n",
    "\n",
    "1. [Git](#Git)\n",
    "2. [GitHub](#GitHub)\n",
    "3. [Magic Cells](#MagicCells)"
   ]
  },
  {
   "cell_type": "markdown",
   "id": "d6186c14-cde9-4051-bf62-b55b0e26f5bf",
   "metadata": {},
   "source": [
    "# Git"
   ]
  },
  {
   "cell_type": "markdown",
   "id": "58498f5d-b7c7-4bc0-9783-cadeb4ecf10f",
   "metadata": {},
   "source": []
  },
  {
   "cell_type": "markdown",
   "id": "f4d32280-a8fc-41be-8923-16839adc1eb8",
   "metadata": {
    "tags": []
   },
   "source": [
    "# GitHub"
   ]
  },
  {
   "cell_type": "markdown",
   "id": "a58f9487-c416-414b-b71e-55b4faf19940",
   "metadata": {},
   "source": []
  },
  {
   "cell_type": "markdown",
   "id": "c64c2db2-edeb-4f84-8598-09f88a7bf27a",
   "metadata": {},
   "source": [
    "# MagicCells"
   ]
  },
  {
   "cell_type": "markdown",
   "id": "1188b9f3-c750-48be-a0f7-d64506b3ff39",
   "metadata": {},
   "source": []
  },
  {
   "cell_type": "markdown",
   "id": "19bd73f7-9bb5-4fe4-9191-d55e4c76153a",
   "metadata": {},
   "source": [
    "*Carga a GitHub*\n",
    "___"
   ]
  },
  {
   "cell_type": "code",
   "execution_count": 3,
   "id": "13f46b95-b66d-415d-b628-897e480b79dc",
   "metadata": {
    "tags": []
   },
   "outputs": [
    {
     "name": "stdout",
     "output_type": "stream",
     "text": [
      "fatal: not a git repository (or any of the parent directories): .git\n"
     ]
    }
   ],
   "source": [
    "!git add ."
   ]
  },
  {
   "cell_type": "code",
   "execution_count": null,
   "id": "5ca95689-2744-4064-9a74-c6079fbf5edf",
   "metadata": {},
   "outputs": [],
   "source": []
  }
 ],
 "metadata": {
  "kernelspec": {
   "display_name": "Python 3 (ipykernel)",
   "language": "python",
   "name": "python3"
  },
  "language_info": {
   "codemirror_mode": {
    "name": "ipython",
    "version": 3
   },
   "file_extension": ".py",
   "mimetype": "text/x-python",
   "name": "python",
   "nbconvert_exporter": "python",
   "pygments_lexer": "ipython3",
   "version": "3.11.5"
  }
 },
 "nbformat": 4,
 "nbformat_minor": 5
}
