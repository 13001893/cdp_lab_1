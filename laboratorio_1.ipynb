{
 "cells": [
  {
   "cell_type": "markdown",
   "id": "b6d03f38-0699-4220-a26f-1240c2ccfb0b",
   "metadata": {},
   "source": [
    "# Laboratorio 1\n",
    "## Ciencias de Datos en Python\n",
    "\n",
    "*20240215*\n",
    "\n",
    "**Diego Morales**\n",
    "\n",
    "1. [Git](#Git)\n",
    "2. [GitHub](#GitHub)\n",
    "3. [Magic Cells](#MagicCells)"
   ]
  },
  {
   "cell_type": "markdown",
   "id": "d6186c14-cde9-4051-bf62-b55b0e26f5bf",
   "metadata": {},
   "source": [
    "## Git"
   ]
  },
  {
   "cell_type": "markdown",
   "id": "58498f5d-b7c7-4bc0-9783-cadeb4ecf10f",
   "metadata": {},
   "source": [
    "Git es un **sistema de control de versionamiento**, el cual es un software que permite mantener un historial de los cambios realizados en archivos a través del tiempo. También funciona de forma **distribuida**, por lo que todos los usuarios que forman parte de un proyeto tienen acceso completo a la historia desde el inicio.\n",
    "\n",
    "Entre las ventajas de utilizar Git en un proyecto se destacan: \n",
    "- La capacidad para deshacer cambios: lo cual permite regresar a una versión anterior.\n",
    "- Un historial completo de cada cambio: lo cual permite visualizar el estado del proyecto.\n",
    "- Documentación sobre los cambios realizados: ya que al realizar cada cambio se almacena su justificación.\n",
    "- Confianza para realizar cambios: permite libertad para implementar cambios ya que siempre se podrá regresar a una versión anterior.\n",
    "- Ramas independientes: ya que permite que cada persona trabaje en una características de forma individual para luego unirla al proyecto.\n",
    "\n",
    "> (Bell & Beer, 2014)"
   ]
  },
  {
   "cell_type": "markdown",
   "id": "f4d32280-a8fc-41be-8923-16839adc1eb8",
   "metadata": {
    "tags": []
   },
   "source": [
    "## GitHub"
   ]
  },
  {
   "cell_type": "markdown",
   "id": "a58f9487-c416-414b-b71e-55b4faf19940",
   "metadata": {},
   "source": [
    "GitHub es una **plataforma** que permite cargar una copia de un **repositorio de Git** alojada en GitHub.com, en algún proveedor de la nube (como Microsoft Azure o Amazon AWS), o en un servidor montado por la misma empresa. Permite una colaboración sencilla entre distintas personas que trabajan en un mismo proyecto gracias a su interfaz y características como: forking, pull request, issues, projects, GitHub Wikis y otros.\n",
    "\n",
    "Los beneficios principales que ofrece GitHub son los siguientes:\n",
    "\n",
    "- Requerimientos de documentación: utilizando *issues* se pueden documentar errores (*bugs*) y especificar mejoras deseables.\n",
    "- Colaboración independiente: utilizando ramas (*branches*) y *pull requests* se puede colaborar en diferentes mejoras.\n",
    "- Historial de progreso: a partir de los *pull requests* realizados se pueden visualizar las mejoras trabajadas.\n",
    "- Progreso del equipo: revisando los *commits* se puede obtener información sobre el trabajo actual de cada miembro del equipo.\n",
    "\n",
    "> (Bell & Beer, 2014)"
   ]
  },
  {
   "cell_type": "markdown",
   "id": "c64c2db2-edeb-4f84-8598-09f88a7bf27a",
   "metadata": {},
   "source": [
    "## MagicCells"
   ]
  },
  {
   "cell_type": "markdown",
   "id": "1188b9f3-c750-48be-a0f7-d64506b3ff39",
   "metadata": {},
   "source": [
    "Los Magic Commands son funciones especiales que IPython ofrece y se encuentran disponibles en Jupyter Notebook. Están conformados por comandos sencillos que ayudan a resolver problemas frecuentes al trabajar con cuadernos de Jupyter permitiendo expandir sus capacidades y mejorar su productividad. Existen dos tipos de comandos mágicos:\n",
    "\n",
    "- Line Magics: operan sobre una línea única utilizando el prefijo % y seguido por el argumento.\n",
    "- Cell Magics: operan sobre una celda completa (múltiples líneas) utilizando el prefijo doble %%.\n",
    "\n",
    "> (Bolle, 2023)"
   ]
  },
  {
   "cell_type": "markdown",
   "id": "72df0b57-bc66-4642-9316-dd4f8e1bdf1b",
   "metadata": {},
   "source": [
    "## Referencias Bibliográficas\n",
    "\n",
    "- Bell, P., & Beer, B. (2014). Introducing GitHub: A Non-technical Guide. O’Reilly Media.\n",
    "- Bolle, M. (2023, 22 agosto). Learn These 15 Magic Commands in Jupyter Notebook to Save Time. Medium. https://medium.com"
   ]
  },
  {
   "cell_type": "markdown",
   "id": "19bd73f7-9bb5-4fe4-9191-d55e4c76153a",
   "metadata": {},
   "source": [
    "___\n",
    "*Carga a GitHub*"
   ]
  },
  {
   "cell_type": "code",
   "execution_count": 13,
   "id": "13f46b95-b66d-415d-b628-897e480b79dc",
   "metadata": {
    "tags": []
   },
   "outputs": [],
   "source": [
    "%%bash\n",
    "git add .\n",
    "!git commit -m 'prueba commit'\n",
    "!git push"
   ]
  }
 ],
 "metadata": {
  "kernelspec": {
   "display_name": "Python 3 (ipykernel)",
   "language": "python",
   "name": "python3"
  },
  "language_info": {
   "codemirror_mode": {
    "name": "ipython",
    "version": 3
   },
   "file_extension": ".py",
   "mimetype": "text/x-python",
   "name": "python",
   "nbconvert_exporter": "python",
   "pygments_lexer": "ipython3",
   "version": "3.11.5"
  }
 },
 "nbformat": 4,
 "nbformat_minor": 5
}
