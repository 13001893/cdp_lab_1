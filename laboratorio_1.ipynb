{
 "cells": [
  {
   "cell_type": "markdown",
   "id": "b6d03f38-0699-4220-a26f-1240c2ccfb0b",
   "metadata": {},
   "source": [
    "# Laboratorio 1\n",
    "## Ciencias de Datos en Python\n",
    "\n",
    "*20240215*\n",
    "\n",
    "**Diego Morales**\n",
    "\n",
    "1. [Git](#Git)\n",
    "2. [GitHub](#GitHub)\n",
    "3. [Magic Cells](#MagicCells)"
   ]
  },
  {
   "cell_type": "markdown",
   "id": "d6186c14-cde9-4051-bf62-b55b0e26f5bf",
   "metadata": {},
   "source": [
    "# Git"
   ]
  },
  {
   "cell_type": "markdown",
   "id": "58498f5d-b7c7-4bc0-9783-cadeb4ecf10f",
   "metadata": {},
   "source": []
  },
  {
   "cell_type": "markdown",
   "id": "f4d32280-a8fc-41be-8923-16839adc1eb8",
   "metadata": {
    "tags": []
   },
   "source": [
    "# GitHub"
   ]
  },
  {
   "cell_type": "markdown",
   "id": "a58f9487-c416-414b-b71e-55b4faf19940",
   "metadata": {},
   "source": []
  },
  {
   "cell_type": "markdown",
   "id": "c64c2db2-edeb-4f84-8598-09f88a7bf27a",
   "metadata": {},
   "source": [
    "# MagicCells"
   ]
  },
  {
   "cell_type": "markdown",
   "id": "1188b9f3-c750-48be-a0f7-d64506b3ff39",
   "metadata": {},
   "source": []
  },
  {
   "cell_type": "markdown",
   "id": "19bd73f7-9bb5-4fe4-9191-d55e4c76153a",
   "metadata": {},
   "source": [
    "*Carga a GitHub*\n",
    "___"
   ]
  },
  {
   "cell_type": "code",
   "execution_count": 1,
   "id": "13f46b95-b66d-415d-b628-897e480b79dc",
   "metadata": {
    "tags": []
   },
   "outputs": [],
   "source": [
    "!git add ."
   ]
  },
  {
   "cell_type": "code",
   "execution_count": 2,
   "id": "5ca95689-2744-4064-9a74-c6079fbf5edf",
   "metadata": {},
   "outputs": [
    {
     "name": "stdout",
     "output_type": "stream",
     "text": [
      "[main 6ddd7d3] genesis commit\n",
      " Committer: Diego Morales <damoib@Diegos-MacBook-Pro.local>\n",
      "Your name and email address were configured automatically based\n",
      "on your username and hostname. Please check that they are accurate.\n",
      "You can suppress this message by setting them explicitly. Run the\n",
      "following command and follow the instructions in your editor to edit\n",
      "your configuration file:\n",
      "\n",
      "    git config --global --edit\n",
      "\n",
      "After doing this, you may fix the identity used for this commit with:\n",
      "\n",
      "    git commit --amend --reset-author\n",
      "\n",
      " 4 files changed, 250 insertions(+)\n",
      " create mode 100644 .ipynb_checkpoints/README-checkpoint.md\n",
      " create mode 100644 .ipynb_checkpoints/laboratorio_1-checkpoint.ipynb\n",
      " create mode 100644 laboratorio_1.ipynb\n"
     ]
    }
   ],
   "source": [
    "!git commit -m 'genesis commit'"
   ]
  },
  {
   "cell_type": "code",
   "execution_count": null,
   "id": "433bd263-bd09-41ff-a3de-faf125f273d7",
   "metadata": {},
   "outputs": [],
   "source": [
    "git --"
   ]
  }
 ],
 "metadata": {
  "kernelspec": {
   "display_name": "Python 3 (ipykernel)",
   "language": "python",
   "name": "python3"
  },
  "language_info": {
   "codemirror_mode": {
    "name": "ipython",
    "version": 3
   },
   "file_extension": ".py",
   "mimetype": "text/x-python",
   "name": "python",
   "nbconvert_exporter": "python",
   "pygments_lexer": "ipython3",
   "version": "3.11.5"
  }
 },
 "nbformat": 4,
 "nbformat_minor": 5
}
