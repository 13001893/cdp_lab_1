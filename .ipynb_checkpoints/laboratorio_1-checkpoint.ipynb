{
 "cells": [
  {
   "cell_type": "markdown",
   "id": "b6d03f38-0699-4220-a26f-1240c2ccfb0b",
   "metadata": {},
   "source": [
    "# Laboratorio 1\n",
    "## Ciencias de Datos en Python\n",
    "\n",
    "*20240215*\n",
    "\n",
    "**Diego Morales**\n",
    "\n",
    "1. [Git](#Git)\n",
    "2. [GitHub](#GitHub)\n",
    "3. [Magic Cells](#MagicCells)"
   ]
  },
  {
   "cell_type": "markdown",
   "id": "d6186c14-cde9-4051-bf62-b55b0e26f5bf",
   "metadata": {},
   "source": [
    "# Git"
   ]
  },
  {
   "cell_type": "markdown",
   "id": "58498f5d-b7c7-4bc0-9783-cadeb4ecf10f",
   "metadata": {},
   "source": [
    "Lorem ipsum"
   ]
  },
  {
   "cell_type": "markdown",
   "id": "f4d32280-a8fc-41be-8923-16839adc1eb8",
   "metadata": {
    "tags": []
   },
   "source": [
    "# GitHub"
   ]
  },
  {
   "cell_type": "markdown",
   "id": "a58f9487-c416-414b-b71e-55b4faf19940",
   "metadata": {},
   "source": [
    "Lorem ipsum"
   ]
  },
  {
   "cell_type": "markdown",
   "id": "c64c2db2-edeb-4f84-8598-09f88a7bf27a",
   "metadata": {},
   "source": [
    "# MagicCells"
   ]
  },
  {
   "cell_type": "markdown",
   "id": "1188b9f3-c750-48be-a0f7-d64506b3ff39",
   "metadata": {},
   "source": [
    "Lorem ipsum"
   ]
  },
  {
   "cell_type": "markdown",
   "id": "19bd73f7-9bb5-4fe4-9191-d55e4c76153a",
   "metadata": {},
   "source": [
    "*Carga a GitHub*\n",
    "___"
   ]
  },
  {
   "cell_type": "code",
   "execution_count": 9,
   "id": "13f46b95-b66d-415d-b628-897e480b79dc",
   "metadata": {
    "tags": []
   },
   "outputs": [],
   "source": [
    "!git add ."
   ]
  },
  {
   "cell_type": "code",
   "execution_count": 10,
   "id": "5ca95689-2744-4064-9a74-c6079fbf5edf",
   "metadata": {},
   "outputs": [
    {
     "name": "stdout",
     "output_type": "stream",
     "text": [
      "[main 1850f8d] prueba commit\n",
      " Committer: Diego Morales <damoib@Diegos-MacBook-Pro.local>\n",
      "Your name and email address were configured automatically based\n",
      "on your username and hostname. Please check that they are accurate.\n",
      "You can suppress this message by setting them explicitly:\n",
      "\n",
      "    git config --global user.name \"Your Name\"\n",
      "    git config --global user.email you@example.com\n",
      "\n",
      "After doing this, you may fix the identity used for this commit with:\n",
      "\n",
      "    git commit --amend --reset-author\n",
      "\n",
      " 2 files changed, 65 insertions(+), 10 deletions(-)\n"
     ]
    }
   ],
   "source": [
    "!git commit -m 'prueba commit'"
   ]
  },
  {
   "cell_type": "code",
   "execution_count": 11,
   "id": "433bd263-bd09-41ff-a3de-faf125f273d7",
   "metadata": {
    "tags": []
   },
   "outputs": [
    {
     "name": "stdout",
     "output_type": "stream",
     "text": [
      "Enumerating objects: 7, done.\n",
      "Counting objects: 100% (7/7), done.\n",
      "Delta compression using up to 11 threads\n",
      "Compressing objects: 100% (4/4), done.\n",
      "Writing objects: 100% (4/4), 1015 bytes | 1015.00 KiB/s, done.\n",
      "Total 4 (delta 2), reused 0 (delta 0), pack-reused 0\n",
      "remote: Resolving deltas: 100% (2/2), completed with 2 local objects.\u001b[K\n",
      "To https://github.com/13001893/cdp_lab_1.git\n",
      "   5ef8bc0..1850f8d  main -> main\n"
     ]
    }
   ],
   "source": [
    "!git push"
   ]
  },
  {
   "cell_type": "code",
   "execution_count": null,
   "id": "5c3a5981-97b2-4b2d-a446-92149914404c",
   "metadata": {},
   "outputs": [],
   "source": []
  }
 ],
 "metadata": {
  "kernelspec": {
   "display_name": "Python 3 (ipykernel)",
   "language": "python",
   "name": "python3"
  },
  "language_info": {
   "codemirror_mode": {
    "name": "ipython",
    "version": 3
   },
   "file_extension": ".py",
   "mimetype": "text/x-python",
   "name": "python",
   "nbconvert_exporter": "python",
   "pygments_lexer": "ipython3",
   "version": "3.11.5"
  }
 },
 "nbformat": 4,
 "nbformat_minor": 5
}
